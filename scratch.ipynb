{
 "cells": [
  {
   "cell_type": "code",
   "execution_count": 8,
   "id": "4e181a6e",
   "metadata": {},
   "outputs": [],
   "source": [
    "from langchain_yt_dlp.youtube_loader import YoutubeLoaderDL\n",
    "from langchain_community.document_loaders import YoutubeLoader"
   ]
  },
  {
   "cell_type": "code",
   "execution_count": 10,
   "id": "d445e872",
   "metadata": {},
   "outputs": [],
   "source": [
    "url = \"https://www.youtube.com/watch?v=Q4OBx3S0Ysw\"\n",
    "loader = YoutubeLoaderDL.from_youtube_url(url, add_video_info=True)\n",
    "loader1 = YoutubeLoader.from_youtube_url(url)\n",
    "data = loader.load()\n",
    "data1 = loader1.load()"
   ]
  },
  {
   "cell_type": "code",
   "execution_count": 3,
   "id": "52c03fbe",
   "metadata": {},
   "outputs": [
    {
     "data": {
      "text/plain": [
       "[Document(metadata={'source': 'Q4OBx3S0Ysw', 'title': 'Vector Similarity Search using Images with Zilliz', 'description': \"In 15 minutes you can use a resnet 50 model to create vector embeddings, store them in a Zilliz database and perform vector similarity search. Everything you need is here, there is a link to my google drive with images (or perform search on your own images!) and a link to my Google Colab to follow along below. Zillliz provides you with free credits to use: https://zilliz.com/\\n\\nVector databases are so popular right now, this was an awesome opportunity to figure out how they're working and set one up!\\n\\nIn this tutorial we will:\\n - Get a connection from our Colab to Milvus and set up a cluster\\n - Import images from Google Drive\\n - Set up Zilliz Cloud\\n - Insert the data\\n - Do our search using a resnet 50 model, then perform the search again with a resnet 152 model and compare the output.\\n\\nGoogle Colab: https://colab.research.google.com/drive/1NAcC_tLxZpdMMa8GC751Itht89ABD34R?usp=sharing\", 'view_count': 640, 'publish_date': '2023-08-14', 'length': 893, 'author': 'Kristen Kehrer', 'channel_id': 'UCo5T7LLTg6DIrozw9UaWKsw', 'webpage_url': 'https://www.youtube.com/watch?v=Q4OBx3S0Ysw'}, page_content=' ')]"
      ]
     },
     "execution_count": 3,
     "metadata": {},
     "output_type": "execute_result"
    }
   ],
   "source": [
    "data"
   ]
  },
  {
   "cell_type": "code",
   "execution_count": null,
   "id": "93aaabd3",
   "metadata": {},
   "outputs": [],
   "source": []
  }
 ],
 "metadata": {
  "kernelspec": {
   "display_name": "Python 3",
   "language": "python",
   "name": "python3"
  },
  "language_info": {
   "codemirror_mode": {
    "name": "ipython",
    "version": 3
   },
   "file_extension": ".py",
   "mimetype": "text/x-python",
   "name": "python",
   "nbconvert_exporter": "python",
   "pygments_lexer": "ipython3",
   "version": "3.11.8"
  }
 },
 "nbformat": 4,
 "nbformat_minor": 5
}
